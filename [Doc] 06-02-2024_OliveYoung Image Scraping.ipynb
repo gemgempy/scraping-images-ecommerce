{
 "cells": [
  {
   "cell_type": "markdown",
   "id": "51d6cfba",
   "metadata": {},
   "source": [
    "### 1. Import Needed Libraries"
   ]
  },
  {
   "cell_type": "markdown",
   "id": "cbe6a56a",
   "metadata": {},
   "source": [
    "<pre>\n",
    "Input    : -\n",
    "Output   : -\n",
    "Process  : \n",
    "Import some Python libraries that will be used, such as OS, time, requests, IO, selenium, and urlib\n",
    "\n",
    "    1. PIL Image : Open and save images. \n",
    "    2. Os : Document directory management and Path manipulation. \n",
    "    3. Time : Setting the operation time of the program. \n",
    "    4. Selenium: Automation of website application interaction commands, used to do web scraping. \n",
    "    5. WebDriver : Control the web browser. \n",
    "    6. Request : Download images from websites.\n",
    "    7. Urllib.parse : Breaks URLs and parses query strings into dictionary.\n",
    "</pre>"
   ]
  },
  {
   "cell_type": "code",
   "execution_count": null,
   "id": "c691e919",
   "metadata": {},
   "outputs": [],
   "source": [
    "import os\n",
    "import time\n",
    "import requests\n",
    "from PIL import Image\n",
    "from io import BytesIO \n",
    "from selenium import webdriver\n",
    "from urllib.parse import parse_qs, urlparse"
   ]
  },
  {
   "cell_type": "markdown",
   "id": "c1e276ff",
   "metadata": {},
   "source": [
    "### 2. Define Web Headers\n",
    "<pre>\n",
    "Input   : -\n",
    "Output  : -\n",
    "Process :\n",
    "Define headers (user's device identity) that will be used for scraping\n",
    "</pre>"
   ]
  },
  {
   "cell_type": "code",
   "execution_count": null,
   "id": "557640bd",
   "metadata": {},
   "outputs": [],
   "source": [
    "headers = {\n",
    "    'User-Agent': 'Mozilla/5.0 (Windows NT 10.0; Win64; x64) AppleWebKit/537.36 (KHTML, like Gecko) Chrome/125.0.0.0 Safari/537.36'\n",
    "}"
   ]
  },
  {
   "attachments": {
    "Diagram%20Tanpa%20Judul.drawio%20%281%29.png": {
     "image/png": "[encoded data removed]"
    }
   },
   "cell_type": "markdown",
   "id": "0f2d55ac",
   "metadata": {},
   "source": [
    "### 3. Run Program\n",
    "\n",
    "<pre>\n",
    "Input   : product link\n",
    "Output  : product images in subfolder\n",
    "Process :\n",
    "    1. Create a sub folder to store each product.\n",
    "    2. Download the image (download_image).\n",
    "    3. Get the product number from the URL (get_prdt_number).\n",
    "    4. Take an image from a URL with Selenium (scrape_images).\n",
    "    5. Define a function to read the URL from the file and call the image capture function (scrape_images_from_file).\n",
    "    6. Main execution: call the function to read the URL file and retrieve a picture of each URL in the file.\n",
    "    7. Programs can be paused by interrupting the kernel (stop)\n",
    "</pre>\n",
    "\n",
    "Diagram Alur dari Program Image Scraping Olive Young:\n",
    "\n",
    "![Diagram%20Tanpa%20Judul.drawio%20%281%29.png](attachment:Diagram%20Tanpa%20Judul.drawio%20%281%29.png)"
   ]
  },
  {
   "cell_type": "code",
   "execution_count": null,
   "id": "f534f0bc",
   "metadata": {
    "scrolled": true
   },
   "outputs": [],
   "source": [
    "from PIL import Image\n",
    "from io import BytesIO \n",
    "import os\n",
    "import time\n",
    "import requests\n",
    "from selenium import webdriver\n",
    "from urllib.parse import parse_qs, urlparse\n",
    "\n",
    "def download_image(image_url, save_path):\n",
    "    response = requests.get(image_url)\n",
    "    image = Image.open(BytesIO(response.content))\n",
    "    width, height = image.size\n",
    "    if width == 1500 and height == 1500:\n",
    "        with open(save_path, 'wb') as img_file:\n",
    "            img_file.write(response.content)\n",
    "        print(f'Downloaded: {save_path}')\n",
    "    else:\n",
    "        print(f'Skipped: {image_url} - Image size not 1500x1500 pixels')\n",
    "\n",
    "\n",
    "def get_prdt_number(url):\n",
    "    parsed_url = urlparse(url)\n",
    "    query_params = parse_qs(parsed_url.query)\n",
    "    prdt_no = query_params.get('prdtNo', [''])[0]\n",
    "    return prdt_no\n",
    "\n",
    "def scrape_images(url, save_directory):\n",
    "     driver = webdriver.Chrome() \n",
    "    driver.get(url)\n",
    "    \n",
    "    time.sleep(15)\n",
    "\n",
    "    if \"We can't find this product.\" in driver.page_source:\n",
    "        prdt_no = get_prdt_number(url)\n",
    "        prdt_directory = os.path.join(save_directory, f'prdt_{prdt_no}')\n",
    "        os.makedirs(prdt_directory, exist_ok=True)\n",
    "        print(f\"Product not found. Created directory for prdtNo: {prdt_no}\")\n",
    "        driver.quit()\n",
    "        return\n",
    "\n",
    "    image_elements = driver.find_elements(\"css selector\", 'img[src^=\"https://image.globaloliveyoungshop.com/prdtImg/\"], img[src^=\"https://image.globaloliveyoungshop.com/mig/prdtImg/\"]')\n",
    "\n",
    "\n",
    "    prdt_no = get_prdt_number(url)\n",
    "\n",
    "    os.makedirs(save_directory, exist_ok=True)\n",
    "    prdt_directory = os.path.join(save_directory, f'prdt_{prdt_no}')\n",
    "    os.makedirs(prdt_directory, exist_ok=True)\n",
    "\n",
    "    downloaded_images = set()\n",
    "\n",
    "    for idx, img_element in enumerate(image_elements):\n",
    "        image_url = img_element.get_attribute('src')\n",
    "        if image_url in downloaded_images:\n",
    "            print(f'Skipped: {image_url} - Image already downloaded')\n",
    "            continue\n",
    "\n",
    "        save_path = os.path.join(prdt_directory, f'image_{idx + 1}.jpg')\n",
    "        download_image(image_url, save_path)\n",
    "        print(f'Downloaded: {save_path}')\n",
    "        downloaded_images.add(image_url)\n",
    "\n",
    "    # Close the browser\n",
    "    driver.quit()\n",
    "\n",
    "def scrape_images_from_file(file_path, save_directory):\n",
    "    with open(file_path, 'r') as url_file:\n",
    "        urls = url_file.read().splitlines()\n",
    "\n",
    "    for url in urls:\n",
    "        scrape_images(url, save_directory)\n",
    "\n",
    "if __name__ == \"__main__\":\n",
    "    url_file_path = r\"D:\\Kerja\\recommendation_skin_analyst\\28-07-2023_ProductScraping\\data\\OliveYoung\\Active_OY.txt\"\n",
    "    save_directory = r\"D:\\Kerja\\recommendation_skin_analyst\\28-07-2023_ProductScraping\\data\\OliveYoung\\product-images\"\n",
    "\n",
    "    scrape_images_from_file(url_file_path, save_directory)"
   ]
  },
  {
   "cell_type": "markdown",
   "id": "ef88aba8",
   "metadata": {},
   "source": [
    "### 4, Validation\n",
    "\n",
    "<pre>\n",
    "Input   : Product Image Sufolders\n",
    "Output  : folder_kosong.csv\n",
    "Process :\n",
    "Record empty folders due to images failing to download.\n",
    "</pre>"
   ]
  },
  {
   "cell_type": "code",
   "execution_count": null,
   "id": "6cce48d1",
   "metadata": {},
   "outputs": [],
   "source": [
    "import os\n",
    "import csv\n",
    "\n",
    "def check_empty_folders(root_folder, csv_file):\n",
    "    with open(csv_file, 'w', newline='') as csvfile:\n",
    "        fieldnames = ['Folder_Name']\n",
    "        writer = csv.DictWriter(csvfile, fieldnames=fieldnames)\n",
    "        writer.writeheader()\n",
    "\n",
    "        for subdir, dirs, files in os.walk(root_folder):\n",
    "            if not files:\n",
    "                folder_name = os.path.basename(subdir)\n",
    "                writer.writerow({'Folder_Name': folder_name})\n",
    "\n",
    "root_folder = r\"D:\\Kerja\\recommendation_skin_analyst\\28-07-2023_ProductScraping\\data\\OliveYoung\\product-images\"\n",
    "csv_file = 'folder_kosong.csv'\n",
    "\n",
    "check_empty_folders(root_folder, csv_file)\n"
   ]
  }
 ],
 "metadata": {
  "kernelspec": {
   "display_name": "Python 3 (ipykernel)",
   "language": "python",
   "name": "python3"
  },
  "language_info": {
   "codemirror_mode": {
    "name": "ipython",
    "version": 3
   },
   "file_extension": ".py",
   "mimetype": "text/x-python",
   "name": "python",
   "nbconvert_exporter": "python",
   "pygments_lexer": "ipython3",
   "version": "3.9.12"
  }
 },
 "nbformat": 4,
 "nbformat_minor": 5
}

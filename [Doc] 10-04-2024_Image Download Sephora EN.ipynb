{
 "cells": [
  {
   "cell_type": "markdown",
   "id": "621613f5",
   "metadata": {},
   "source": [
    "### 1. Import Needed Libraries\n",
    "<pre>\n",
    "Input   : -\n",
    "Output  : -\n",
    "Process :\n",
    "Import some needed Python libraries and models such as\n",
    "    1. OS : Document directory management and Path manipulation. \n",
    "    2. CSV : CSV data manipulation (Write/Read)\n",
    "    3. request : Download images from website.\n",
    "    4. Urllib.parse : Breaks URLs and parses query strings into dictionary.\n",
    "</pre>"
   ]
  },
  {
   "cell_type": "code",
   "execution_count": null,
   "id": "3687c747",
   "metadata": {},
   "outputs": [],
   "source": [
    "import os\n",
    "import csv\n",
    "import requests\n",
    "from urllib.parse import urlparse"
   ]
  },
  {
   "cell_type": "markdown",
   "id": "34b03772",
   "metadata": {},
   "source": [
    "### 2. Run Image Downloader\n",
    "<pre>\n",
    "Input   : CSV file named image_link_cleaned.csv (Product image links and Alt)\n",
    "Output  : Product images in folders.\n",
    "Process :\n",
    "    1. The program is first identified with the User Agent.\n",
    "    2. Creates image storage folders using the product identity in the link.\n",
    "    3. Downloads the images and names them with the Alt of the image (containing the variant name).\n",
    "    4. Record data that was successfully downloaded and those that failed.\n",
    "</pre>"
   ]
  },
  {
   "cell_type": "code",
   "execution_count": null,
   "id": "b1f51c8f",
   "metadata": {
    "scrolled": false
   },
   "outputs": [],
   "source": [
    "headers = {\n",
    "    'User-Agent': 'Mozilla/5.0 (Windows NT 10.0; Win64; x64) AppleWebKit/537.36 (KHTML, like Gecko) Chrome/123.0.0.0 Safari/537.36 Edg/123.0.0.0'\n",
    "}\n",
    "\n",
    "IMAGE_DIR = r\"D:\\Kerja\\recommendation_skin_analyst\\28-07-2023_ProductScraping\\data\\Sephora_EN\\product_images\"\n",
    "\n",
    "def create_folder(folder_name):\n",
    "    if not os.path.exists(folder_name):\n",
    "        os.makedirs(folder_name)\n",
    "\n",
    "def download_image(image_url, folder_name, file_name):\n",
    "    try:\n",
    "        response = requests.get(image_url, headers=headers)\n",
    "        if response.status_code == 200:\n",
    "            full_path = os.path.join(folder_name, file_name)\n",
    "            if os.path.exists(full_path):\n",
    "                base, ext = os.path.splitext(file_name)\n",
    "                count = 2\n",
    "                while os.path.exists(os.path.join(folder_name, f\"{base} ({count}){ext}\")):\n",
    "                    count += 1\n",
    "                file_name = f\"{base} ({count}){ext}\"\n",
    "            with open(os.path.join(folder_name, file_name), 'wb') as f:\n",
    "                f.write(response.content)\n",
    "            print(f\"Downloaded: {file_name} in folder {folder_name}\")\n",
    "        else:\n",
    "            print(f\"Failed to download: {file_name}. Response code: {response.status_code}\")\n",
    "    except Exception as e:\n",
    "        print(f\"Failed to download: {file_name}. Error: {e}\")\n",
    "\n",
    "def main():\n",
    "    csv_file = r\"D:\\Kerja\\recommendation_skin_analyst\\28-07-2023_ProductScraping\\data\\Sephora_EN\\image_link_cleaned.csv\"\n",
    "    \n",
    "    with open(csv_file, 'r', newline='', encoding='latin-1') as file:\n",
    "        reader = csv.DictReader(file)\n",
    "        for row in reader:\n",
    "            web_link = row['web_link']\n",
    "            image_link = row['image_link']\n",
    "            alt = row['alt']\n",
    "            \n",
    "            folder_name = urlparse(web_link).path.strip('/').split('/')[-1]\n",
    "            folder_path = os.path.join(IMAGE_DIR, folder_name)\n",
    "            create_folder(folder_path)\n",
    "\n",
    "            image_name = alt.replace(' ', '_').replace('/', '_').replace('\\', '_').replace(',', '').replace('?','_').replace('<','').replace('>','').replace('|','').replace('*','').replace('\"','').replace(':','') + '.jpg'\n",
    "            download_image(image_link, folder_path, image_name)\n",
    "\n",
    "\n",
    "if __name__ == \"__main__\":\n",
    "    main()\n"
   ]
  },
  {
   "cell_type": "markdown",
   "id": "56965105",
   "metadata": {},
   "source": [
    "### 3 Adding \"Image 1\" into the main product's image\n",
    "<pre>\n",
    "Input   : Files in \n",
    "Output  : Product images in folders.\n",
    "Process :\n",
    "    1. Search for image files that do not have the word Image_1 in the folder.\n",
    "    2. Name the file with the same name in Image_2 after the file + Image_1.\n",
    "    3. The program can be interrupted or run at any time."
   ]
  },
  {
   "cell_type": "code",
   "execution_count": null,
   "id": "5b6c0cdf",
   "metadata": {
    "scrolled": false
   },
   "outputs": [],
   "source": [
    "import os\n",
    "from datetime import datetime\n",
    "\n",
    "directory = r\"D:\\Kerja\\recommendation_skin_analyst\\28-07-2023_ProductScraping\\data\\Sephora_EN\\product_images\"\n",
    "\n",
    "cutoff_date = datetime(2024, 4, 15)\n",
    "\n",
    "def rename_file(file_path, new_file_path):\n",
    "    try:\n",
    "        os.rename(file_path, new_file_path)\n",
    "        print(f\"File {file_path} has been renamed to {new_file_path}\")\n",
    "    except FileExistsError:\n",
    "        print(f\"File {new_file_path} already exists, skipped.\")\n",
    "    except FileNotFoundError:\n",
    "        print(f\"File {file_path} not found, skipped.\")\n",
    "\n",
    "def traverse_directory(directory):\n",
    "    for root, _, files in os.walk(directory):\n",
    "        for filename in files:\n",
    "            file_path = os.path.join(root, filename)\n",
    "            try:\n",
    "                if datetime.fromtimestamp(os.path.getmtime(file_path)) < cutoff_date:\n",
    "                    if \"image\" not in filename.lower():\n",
    "                        file_name, file_ext = os.path.splitext(filename)\n",
    "                        new_file_name = file_name + \"_Image_1\" + file_ext\n",
    "                        new_file_path = os.path.join(root, new_file_name)\n",
    "                        rename_file(file_path, new_file_path)\n",
    "            except FileNotFoundError:\n",
    "                print(f\"File {file_path} not found, skipped.\")\n",
    "\n",
    "traverse_directory(directory)"
   ]
  }
 ],
 "metadata": {
  "kernelspec": {
   "display_name": "Python 3 (ipykernel)",
   "language": "python",
   "name": "python3"
  },
  "language_info": {
   "codemirror_mode": {
    "name": "ipython",
    "version": 3
   },
   "file_extension": ".py",
   "mimetype": "text/x-python",
   "name": "python",
   "nbconvert_exporter": "python",
   "pygments_lexer": "ipython3",
   "version": "3.9.12"
  }
 },
 "nbformat": 4,
 "nbformat_minor": 5
}
